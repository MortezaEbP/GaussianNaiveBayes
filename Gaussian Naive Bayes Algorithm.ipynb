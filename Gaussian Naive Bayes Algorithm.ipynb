{
 "cells": [
  {
   "cell_type": "markdown",
   "source": [
    "<div class='alert alert-success'>\n",
    "<h1 align=\"center\"> Gaussian Naive Bayes </h1>\n",
    "<h3 align=\"center\">Implementation of Machine Learning Algorithms </h3>\n",
    "<h5 align=\"center\">Morteza Ebrahim Pour <a href='https://github.com/MortezaEbP/GradientDescentRegression'>2023</a></h5>\n",
    "</div>"
   ],
   "metadata": {
    "collapsed": false
   }
  },
  {
   "cell_type": "code",
   "execution_count": null,
   "outputs": [],
   "source": [
    "import numpy as np\n",
    "import pandas as pd\n",
    "\n",
    "class GaussianNaiveBayes:\n",
    "    def __init__(self):\n",
    "        self.py = None\n",
    "        self.var = None\n",
    "        self.mean = None\n",
    "\n",
    "    def fit(self, X, y):\n",
    "        \"\"\"\n",
    "        Fit the Gaussian Naive Bayes model to the training data.\n",
    "\n",
    "        Parameters:\n",
    "        X (numpy.ndarray): Training data features, shape (n_samples, n_features).\n",
    "        y (numpy.ndarray): Target labels, shape (n_samples,).\n",
    "\n",
    "        \"\"\"\n",
    "        df = pd.DataFrame(data=np.hstack((X, y.reshape(-1, 1))))\n",
    "\n",
    "        # Calculate the mean and variance of each feature per class\n",
    "        grouped = df.groupby(df.iloc[:, -1])\n",
    "        self.mean = grouped.mean().iloc[:, :-1].values\n",
    "        self.var = grouped.var().iloc[:, :-1].values\n",
    "\n",
    "        # Calculate the prior probability of each class\n",
    "        class_counts = np.bincount(y)\n",
    "        self.py = class_counts / len(y)\n",
    "\n",
    "    def predict(self, X):\n",
    "        \"\"\"\n",
    "        Predict the class labels for input data.\n",
    "\n",
    "        Parameters:\n",
    "        X (numpy.ndarray): Input data features, shape (n_samples, n_features).\n",
    "\n",
    "        Returns:\n",
    "        numpy.ndarray: Predicted class labels, shape (n_samples,).\n",
    "        \"\"\"\n",
    "        pred = np.argmax(self.predict_proba(X), axis=1)\n",
    "        return pred\n",
    "\n",
    "    def predict_proba(self, X):\n",
    "        \"\"\"\n",
    "        Calculate the class probabilities for input data.\n",
    "\n",
    "        Parameters:\n",
    "        X (numpy.ndarray): Input data features, shape (n_samples, n_features).\n",
    "\n",
    "        Returns:\n",
    "        numpy.ndarray: Class probabilities, shape (n_samples, n_classes).\n",
    "        \"\"\"\n",
    "        class_probs = np.apply_along_axis(self.get_class_probability, 1, X)\n",
    "        return class_probs\n",
    "\n",
    "    def get_class_probability(self, x):\n",
    "        \"\"\"\n",
    "        Calculate the conditional class probability for a single data point.\n",
    "\n",
    "        Parameters:\n",
    "        x (numpy.ndarray): Input data point, shape (n_features,).\n",
    "\n",
    "        Returns:\n",
    "        numpy.ndarray: Conditional class probabilities, shape (n_classes,).\n",
    "        \"\"\"\n",
    "        px = self.gaussian_density(x, self.mean, self.var)\n",
    "        return self.py * np.prod(px, axis=1)\n",
    "\n",
    "    @staticmethod\n",
    "    def gaussian_density(random_variable, mean, var):\n",
    "        \"\"\"\n",
    "        Calculate the Gaussian density for a random variable.\n",
    "\n",
    "        Parameters:\n",
    "        random_variable (numpy.ndarray): Random variable values, shape (n_features,).\n",
    "        mean (numpy.ndarray): Mean values for each feature and class, shape (n_classes, n_features).\n",
    "        var (numpy.ndarray): Variance values for each feature and class, shape (n_classes, n_features).\n",
    "\n",
    "        Returns:\n",
    "        numpy.ndarray: Gaussian density values, shape (n_classes, n_features).\n",
    "        \"\"\"\n",
    "        px = (1 / np.sqrt(2 * np.pi * var)) * np.exp((-1 / 2) * np.power((random_variable - mean), 2) / var)\n",
    "        return px\n",
    "\n",
    "# Example usage\n",
    "# X = np.array([[1.1, 2.0], [2.2, 3.3], [0.9, 1.8], [3.0, 4.0]])\n",
    "# y = np.array([0, 1, 0, 1])\n",
    "# model = GaussianNaiveBayes()\n",
    "# model.fit(X, y)\n",
    "# predictions = model.predict(X)\n",
    "# print(predictions)\n",
    "\n"
   ],
   "metadata": {
    "collapsed": false
   }
  },
  {
   "cell_type": "code",
   "execution_count": null,
   "outputs": [],
   "source": [],
   "metadata": {
    "collapsed": false
   }
  },
  {
   "cell_type": "code",
   "execution_count": null,
   "outputs": [],
   "source": [],
   "metadata": {
    "collapsed": false
   }
  },
  {
   "cell_type": "code",
   "execution_count": null,
   "outputs": [],
   "source": [],
   "metadata": {
    "collapsed": false
   }
  }
 ],
 "metadata": {
  "kernelspec": {
   "display_name": "Python 3",
   "language": "python",
   "name": "python3"
  },
  "language_info": {
   "codemirror_mode": {
    "name": "ipython",
    "version": 2
   },
   "file_extension": ".py",
   "mimetype": "text/x-python",
   "name": "python",
   "nbconvert_exporter": "python",
   "pygments_lexer": "ipython2",
   "version": "2.7.6"
  }
 },
 "nbformat": 4,
 "nbformat_minor": 0
}
